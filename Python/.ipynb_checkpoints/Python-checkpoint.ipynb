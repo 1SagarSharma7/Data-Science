{
 "cells": [
  {
   "cell_type": "markdown",
   "id": "cosmetic-provision",
   "metadata": {},
   "source": [
    "# Variables\n",
    "\n",
    "- the last line is shown as an output\n",
    "- the print itself adds a line break \n",
    "- the name shouldn't start with a number or contain any of the symbols\n",
    "\n"
   ]
  },
  {
   "cell_type": "code",
   "execution_count": 8,
   "id": "increased-tampa",
   "metadata": {},
   "outputs": [
    {
     "name": "stdout",
     "output_type": "stream",
     "text": [
      "hello\n",
      "10\n",
      "15\n"
     ]
    },
    {
     "data": {
      "text/plain": [
       "15"
      ]
     },
     "execution_count": 8,
     "metadata": {},
     "output_type": "execute_result"
    }
   ],
   "source": [
    "a = 10  # number\n",
    "b = \"hello\"  # string \n",
    "c = 5\n",
    "\n",
    "print(b)\n",
    "print(a)\n",
    "print(a + c)\n",
    "\n",
    "ab = 0\n",
    "\n",
    "a + c  # output"
   ]
  },
  {
   "cell_type": "markdown",
   "id": "impaired-hamilton",
   "metadata": {},
   "source": [
    "1adf = 10\n",
    "sdaf@ = 20\n",
    "\n",
    "print(1adf)\n",
    "print(sdaf@)"
   ]
  },
  {
   "cell_type": "markdown",
   "id": "related-diameter",
   "metadata": {},
   "source": [
    "### How data is stored in the memory of variable in python?"
   ]
  },
  {
   "cell_type": "markdown",
   "id": "driven-catalyst",
   "metadata": {},
   "source": [
    " In C++/Java language, int a = 12 means \n",
    " Step 1: 4 bytes of memory is reserved, as it is int type\n",
    " Step 2: variable a is assigned to that memory location.\n",
    " Step 3: Value 12 is placed in that location.\n",
    " Step 4: Now if you want to change or edit anything in a - you have to do it in 4bytes itself.\n",
    "\n",
    " In Python, a = 12 means\n",
    " Step 1: 12 is stored in the memory.\n",
    " Step 2: variable a is labelled to that memory.\n",
    " Step 3: Now if i want to change the value to string name \"hello\" i can simply type a = \"Hello\"\n"
   ]
  }
 ],
 "metadata": {
  "kernelspec": {
   "display_name": "Python 3",
   "language": "python",
   "name": "python3"
  },
  "language_info": {
   "codemirror_mode": {
    "name": "ipython",
    "version": 3
   },
   "file_extension": ".py",
   "mimetype": "text/x-python",
   "name": "python",
   "nbconvert_exporter": "python",
   "pygments_lexer": "ipython3",
   "version": "3.9.1"
  }
 },
 "nbformat": 4,
 "nbformat_minor": 5
}
