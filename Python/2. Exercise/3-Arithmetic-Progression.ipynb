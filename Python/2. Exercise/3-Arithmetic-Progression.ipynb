{
 "cells": [
  {
   "cell_type": "code",
   "execution_count": 3,
   "id": "productive-nothing",
   "metadata": {},
   "outputs": [
    {
     "name": "stdout",
     "output_type": "stream",
     "text": [
      "1\n",
      "3\n",
      "5\n",
      "2\n"
     ]
    }
   ],
   "source": [
    "\"\"\"\n",
    "\n",
    "Arithmetic Progression\n",
    "\n",
    "You are given first three entries of an arithmetic\n",
    "progression. You have to calculate the common\n",
    "difference and print it.\n",
    "\n",
    "Input format:\n",
    "The first line of input contains an integer a (1 <=a <= 100)\n",
    "The second line of input contains an integer b (1 <=b <= 100)\n",
    "The third line of input contains an integer c (1 <=c <= 100)\n",
    "\n",
    "Constraints:\n",
    "Time Limit: 1 second\n",
    "\n",
    "Output format:\n",
    "The first and only line of output contains the\n",
    "result.\n",
    "\n",
    "Sample Input:\n",
    "1\n",
    "3\n",
    "5\n",
    "\n",
    "Sample Output:\n",
    "2\n",
    "\n",
    "\"\"\"\n",
    "\n",
    "#Take 3 inputs\n",
    "\n",
    "a = int(input())\n",
    "b = int(input())\n",
    "c = int(input())\n",
    "\n",
    "#Find the difference between the inputs \n",
    "\n",
    "d = b - a\n",
    "e = b - c\n",
    "\n",
    "#Check the posses the same id \n",
    "#not thought yer\n",
    "\n",
    "#Print it\n",
    "\n",
    "print(d)\n"
   ]
  }
 ],
 "metadata": {
  "kernelspec": {
   "display_name": "Python 3",
   "language": "python",
   "name": "python3"
  },
  "language_info": {
   "codemirror_mode": {
    "name": "ipython",
    "version": 3
   },
   "file_extension": ".py",
   "mimetype": "text/x-python",
   "name": "python",
   "nbconvert_exporter": "python",
   "pygments_lexer": "ipython3",
   "version": "3.9.1"
  }
 },
 "nbformat": 4,
 "nbformat_minor": 5
}
