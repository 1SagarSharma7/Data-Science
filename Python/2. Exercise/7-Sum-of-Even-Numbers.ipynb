{
 "cells": [
  {
   "cell_type": "code",
   "execution_count": 2,
   "id": "standard-therapy",
   "metadata": {},
   "outputs": [
    {
     "name": "stdout",
     "output_type": "stream",
     "text": [
      "6\n",
      "12\n"
     ]
    }
   ],
   "source": [
    "\"\"\"\n",
    "\n",
    "Sum of Even Numbers\n",
    "\n",
    "Given a number N, print sum of all even numbers from\n",
    "1 to N.\n",
    "I\n",
    "Input Format :\n",
    "Integer N\n",
    "\n",
    "Output Format :\n",
    "Required Sum\n",
    "\n",
    "Sample Input 1:\n",
    "6\n",
    "\n",
    "Sample Output 1: \n",
    "12\n",
    "\n",
    "\"\"\"\n",
    "\n",
    "# Take a number n\n",
    "\n",
    "n = int(input())\n",
    "\n",
    "# while it with condition %2 == 0 if true add it in ans or else ignore\n",
    "\n",
    "i = 1\n",
    "ans = 0\n",
    "while i <= n :\n",
    "    if i % 2 == 0 :\n",
    "        ans = ans + i\n",
    "    i = i + 1\n",
    "\n",
    "# Print the ans\n",
    "\n",
    "print(ans)\n"
   ]
  }
 ],
 "metadata": {
  "kernelspec": {
   "display_name": "Python 3",
   "language": "python",
   "name": "python3"
  },
  "language_info": {
   "codemirror_mode": {
    "name": "ipython",
    "version": 3
   },
   "file_extension": ".py",
   "mimetype": "text/x-python",
   "name": "python",
   "nbconvert_exporter": "python",
   "pygments_lexer": "ipython3",
   "version": "3.9.1"
  }
 },
 "nbformat": 4,
 "nbformat_minor": 5
}
