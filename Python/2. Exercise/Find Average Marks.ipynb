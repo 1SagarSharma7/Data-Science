{
 "cells": [
  {
   "cell_type": "code",
   "execution_count": 8,
   "id": "manufactured-veteran",
   "metadata": {},
   "outputs": [
    {
     "name": "stdout",
     "output_type": "stream",
     "text": [
      "5 \n",
      "10\n",
      "5\n",
      "6.666666666666667\n"
     ]
    }
   ],
   "source": [
    "\"\"\"\n",
    "\n",
    "Find average Marks\n",
    "\n",
    "Write a program to input marks of three tests of a student (all integers). Then calculate and print the average of all test marks.\n",
    "\n",
    "Input format :\n",
    "3 Test marks (in different lines)\n",
    "\n",
    "Output format :\n",
    "Average \n",
    "\n",
    "Sample Input 1 :\n",
    "3 \n",
    "4 \n",
    "6\n",
    "\n",
    "Sample Output 1 :\n",
    "4.333333333333333\n",
    "\n",
    "Sample Input 2 :\n",
    "5 \n",
    "10 \n",
    "5\n",
    "\n",
    "Sample Output 2 :\n",
    "6.666666666666667\n",
    "\n",
    "\"\"\"\n",
    "\n",
    "#Take 3 inputs\n",
    "\n",
    "a = int(input())\n",
    "b = int(input())\n",
    "c = int(input())\n",
    "\n",
    "#Calculate the average\n",
    "\n",
    "avg = (a + b + c) / 3  #brackets used so that there is no need of remembering the precedence table\n",
    "\n",
    "#Print the output(average)\n",
    "\n",
    "print(avg)             #could have done the calculation and printing in one line but it looks cleaner\n",
    "\n"
   ]
  }
 ],
 "metadata": {
  "kernelspec": {
   "display_name": "Python 3",
   "language": "python",
   "name": "python3"
  },
  "language_info": {
   "codemirror_mode": {
    "name": "ipython",
    "version": 3
   },
   "file_extension": ".py",
   "mimetype": "text/x-python",
   "name": "python",
   "nbconvert_exporter": "python",
   "pygments_lexer": "ipython3",
   "version": "3.9.1"
  }
 },
 "nbformat": 4,
 "nbformat_minor": 5
}
