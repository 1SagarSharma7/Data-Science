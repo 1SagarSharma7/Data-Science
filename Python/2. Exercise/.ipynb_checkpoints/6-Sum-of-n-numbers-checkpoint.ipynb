{
 "cells": [
  {
   "cell_type": "code",
   "execution_count": 4,
   "id": "metric-ordinance",
   "metadata": {},
   "outputs": [
    {
     "name": "stdout",
     "output_type": "stream",
     "text": [
      "10\n",
      "55\n"
     ]
    }
   ],
   "source": [
    "\"\"\"\n",
    "\n",
    "Sum of n numbers\n",
    "\n",
    "Given an integer n, find and print the sum of numbers\n",
    "from 1 to n.\n",
    "Note : Use while loop only.\n",
    "\n",
    "Input Format :\n",
    "Integer n\n",
    "\n",
    "Output Format :\n",
    "Sum\n",
    "\n",
    "Constraints :\n",
    "1<=n<=100\n",
    "\n",
    "Sample Input :\n",
    "10\n",
    "\n",
    "Sample Output :\n",
    "55\n",
    "\n",
    "\"\"\"\n",
    "\n",
    "# Take a number(n)\n",
    "\n",
    "n = int(input())\n",
    "\n",
    "# While it till n # keep a count with, also # Print Accordingly\n",
    "\n",
    "i = 1\n",
    "sum = 0\n",
    "while i <= n :\n",
    "    sum = sum + i\n",
    "    i = i + 1\n",
    "print(sum)\n",
    "\n"
   ]
  }
 ],
 "metadata": {
  "kernelspec": {
   "display_name": "Python 3",
   "language": "python",
   "name": "python3"
  },
  "language_info": {
   "codemirror_mode": {
    "name": "ipython",
    "version": 3
   },
   "file_extension": ".py",
   "mimetype": "text/x-python",
   "name": "python",
   "nbconvert_exporter": "python",
   "pygments_lexer": "ipython3",
   "version": "3.9.1"
  }
 },
 "nbformat": 4,
 "nbformat_minor": 5
}
