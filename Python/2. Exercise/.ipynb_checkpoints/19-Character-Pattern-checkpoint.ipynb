{
 "cells": [
  {
   "cell_type": "code",
   "execution_count": 8,
   "id": "dominant-customer",
   "metadata": {},
   "outputs": [
    {
     "name": "stdout",
     "output_type": "stream",
     "text": [
      "6\n",
      "A\n",
      "BC\n",
      "CDE\n",
      "DEFG\n",
      "EFGHI\n",
      "FGHIJK\n"
     ]
    }
   ],
   "source": [
    "\"\"\"\n",
    "\n",
    "19-Character-Pattern\n",
    "\n",
    "Print the following pattern for the given N number of rows.\n",
    "Pattern for N = 4\n",
    "A\n",
    "BC\n",
    "CDE\n",
    "DEFG\n",
    "\n",
    "Input format :\n",
    "Integer N (Total no. of rows)\n",
    "\n",
    "Output format :\n",
    "Pattern in N lines\n",
    "\n",
    "Constraints\n",
    "0 <= N <= 13\n",
    "\n",
    "Sample Input 1:\n",
    "5\n",
    "\n",
    "Sample Output 1:\n",
    "A\n",
    "BC\n",
    "CDE\n",
    "DEFG\n",
    "EFGHI\n",
    "\n",
    "Sample Input 2:\n",
    "6\n",
    "\n",
    "Sample Output 2:\n",
    "A\n",
    "BC\n",
    "CDE\n",
    "DEFG\n",
    "EFGHI\n",
    "FGHIJK\n",
    "\n",
    "\"\"\"\n",
    "\n",
    "# How many rows?\n",
    "\n",
    "n = int(input())\n",
    "i = 1\n",
    "while i <= n :\n",
    "    \n",
    "# How many columns for ith columns?\n",
    "    \n",
    "    j = 1\n",
    "    k = i\n",
    "    while j <= i :\n",
    "        \n",
    "# What to print?\n",
    "\n",
    "        print(chr(ord(\"A\") + k - 1), end = \"\")\n",
    "        j += 1\n",
    "        k += 1\n",
    "    print()\n",
    "    i += 1\n",
    "    "
   ]
  }
 ],
 "metadata": {
  "kernelspec": {
   "display_name": "Python 3",
   "language": "python",
   "name": "python3"
  },
  "language_info": {
   "codemirror_mode": {
    "name": "ipython",
    "version": 3
   },
   "file_extension": ".py",
   "mimetype": "text/x-python",
   "name": "python",
   "nbconvert_exporter": "python",
   "pygments_lexer": "ipython3",
   "version": "3.9.1"
  }
 },
 "nbformat": 4,
 "nbformat_minor": 5
}
