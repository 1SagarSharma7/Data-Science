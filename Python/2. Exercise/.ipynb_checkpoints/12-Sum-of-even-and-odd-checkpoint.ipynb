{
 "cells": [
  {
   "cell_type": "code",
   "execution_count": 4,
   "id": "welsh-taylor",
   "metadata": {},
   "outputs": [
    {
     "name": "stdout",
     "output_type": "stream",
     "text": [
      "552245\n",
      "8 15\n"
     ]
    }
   ],
   "source": [
    "\"\"\"\n",
    "\n",
    "12-Sum-of-even-and-odd\n",
    "\n",
    "Write a program to input an integer N and print the sum of all its even digits and sum of all its odd digits separately.\n",
    "Digits mean numbers, not the places! That is, if the given integer is \"13245\", even digits are 2 & 4 and odd digits are 1, 3 & 5.\n",
    "\n",
    "Input format :\n",
    " Integer N\n",
    "\n",
    "Output format :\n",
    "Sum_of_Even_Digits Sum_of_Odd_Digits\n",
    "(Print first even sum and then odd sum separated by space)\n",
    "\n",
    "Constraints\n",
    "0 <= N <= 10^8\n",
    "\n",
    "Sample Input 1:\n",
    "1234\n",
    "\n",
    "Sample Output 1:\n",
    "6 4\n",
    "\n",
    "Sample Input 2:\n",
    "552245\n",
    "\n",
    "Sample Output 2:\n",
    "8 15\n",
    "\n",
    "Explanation for Input 2:\n",
    "For the given input, the even digits are 2, 2 and 4 and if we take the sum of these digits it will come out to be 8(2 + 2 + 4)\n",
    "and similarly, if we look at the odd digits, they are, 5, 5 and 5 which makes a sum of 15(5 + 5 + 5). Hence the answer would be,\n",
    "8(evenSum) <single space> 15(oddSum)\n",
    "\n",
    "\"\"\"\n",
    "\n",
    "# Take a number\n",
    "\n",
    "n = int(input())\n",
    "n1 = n\n",
    "sumo = 0\n",
    "sume = 0\n",
    "\n",
    "# Loop it by %2 and if's adding in sume and sumo\n",
    "\n",
    "\n",
    "while n1 != 0 :\n",
    "    n2 = n1 % 10\n",
    "    if n2 % 2 == 0 :\n",
    "        sume = sume + n2\n",
    "    else :\n",
    "        sumo = sumo + n2\n",
    "    n1 = n1 // 10\n",
    "\n",
    "print(sume, end = \" \")\n",
    "print(sumo)\n"
   ]
  }
 ],
 "metadata": {
  "kernelspec": {
   "display_name": "Python 3",
   "language": "python",
   "name": "python3"
  },
  "language_info": {
   "codemirror_mode": {
    "name": "ipython",
    "version": 3
   },
   "file_extension": ".py",
   "mimetype": "text/x-python",
   "name": "python",
   "nbconvert_exporter": "python",
   "pygments_lexer": "ipython3",
   "version": "3.9.1"
  }
 },
 "nbformat": 4,
 "nbformat_minor": 5
}
