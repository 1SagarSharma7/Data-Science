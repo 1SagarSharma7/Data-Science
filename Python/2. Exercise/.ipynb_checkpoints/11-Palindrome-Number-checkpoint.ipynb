{
 "cells": [
  {
   "cell_type": "code",
   "execution_count": 8,
   "id": "optional-belgium",
   "metadata": {},
   "outputs": [
    {
     "name": "stdout",
     "output_type": "stream",
     "text": [
      "121\n",
      "True\n"
     ]
    }
   ],
   "source": [
    "\"\"\"\n",
    "\n",
    "11-Palindrome-Number\n",
    "\n",
    "Write a program to determine if given number is\n",
    "palindrome or not. Print true if it is palindrome, false\n",
    "otherwise.\n",
    "Palindrome are the numbers for which reverse is\n",
    "exactly same as the original one. For eg. 121\n",
    "\n",
    "Sample Input 1:\n",
    "121\n",
    "\n",
    "Sample Output 1:\n",
    "true\n",
    "\n",
    "Sample Input 2:\n",
    "1032\n",
    "\n",
    "Sample Output 2:\n",
    "false\n",
    "\n",
    "\"\"\"\n",
    "# SWOT\n",
    "# Reverse the number and compare\n",
    "# Can think of a better solution\n",
    "\n",
    "#Reverse the number then compare it the non reversed one(original)\n",
    "\n",
    "# Take the number(n1) that has to be reversed\n",
    "\n",
    "n1 = int(input())\n",
    "n3 = n1\n",
    "r = n1 % 10\n",
    "n2 = r\n",
    "n1 = n1 // 10\n",
    "\n",
    "# while it %2 save it later %2 *10 + with previous number continue\n",
    "\n",
    "while n1 != 0 :\n",
    "    r = n1 % 10\n",
    "    n2 = n2 * 10 + r\n",
    "    n1 = n1 // 10\n",
    "    \n",
    "# print the its palindrome or not\n",
    "if n3 == n2 :\n",
    "    print(True)\n",
    "else :\n",
    "    print(False)\n"
   ]
  }
 ],
 "metadata": {
  "kernelspec": {
   "display_name": "Python 3",
   "language": "python",
   "name": "python3"
  },
  "language_info": {
   "codemirror_mode": {
    "name": "ipython",
    "version": 3
   },
   "file_extension": ".py",
   "mimetype": "text/x-python",
   "name": "python",
   "nbconvert_exporter": "python",
   "pygments_lexer": "ipython3",
   "version": "3.9.1"
  }
 },
 "nbformat": 4,
 "nbformat_minor": 5
}
