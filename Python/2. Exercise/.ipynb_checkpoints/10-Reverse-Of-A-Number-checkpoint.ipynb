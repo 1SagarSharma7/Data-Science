{
 "cells": [
  {
   "cell_type": "code",
   "execution_count": 10,
   "id": "blind-christianity",
   "metadata": {},
   "outputs": [
    {
     "name": "stdout",
     "output_type": "stream",
     "text": [
      "10400\n",
      "401\n"
     ]
    }
   ],
   "source": [
    "\"\"\"\n",
    "\n",
    "10-Reverse-of-a-number\n",
    "\n",
    "Write a program to generate the reverse of a given number N. Print the corresponding reverse number.\n",
    "Note : If a number has trailing zeros, then its reverse will not include them. For e.g., reverse of 10400 will be 401\n",
    "instead of 00401.\n",
    "\n",
    "Input format :\n",
    "Integer N\n",
    "\n",
    "Output format :\n",
    "Corresponding reverse number\n",
    "\n",
    "Constraints:\n",
    "0 <= N < 10^8\n",
    "\n",
    "Sample Input 1 :\n",
    "1234\n",
    "\n",
    "Sample Output 1 :\n",
    "4321\n",
    "\n",
    "Sample Input 2 :\n",
    "1980\n",
    "\n",
    "Sample Output 2 :\n",
    "891\n",
    "\n",
    "\"\"\"\n",
    "# Take the number(n1) that has to be reversed\n",
    "\n",
    "n1 = int(input())\n",
    "r = n1 % 10\n",
    "n2 = r\n",
    "n1 = n1 // 10\n",
    "\n",
    "# while it %2 save it later %2 *10 + with previous number continue\n",
    "\n",
    "while n1 != 0 :\n",
    "    r = n1 % 10\n",
    "    n2 = n2 * 10 + r\n",
    "    n1 = n1 // 10\n",
    "    \n",
    "# print the n2\n",
    "print(n2)\n",
    "\n",
    "\n"
   ]
  }
 ],
 "metadata": {
  "kernelspec": {
   "display_name": "Python 3",
   "language": "python",
   "name": "python3"
  },
  "language_info": {
   "codemirror_mode": {
    "name": "ipython",
    "version": 3
   },
   "file_extension": ".py",
   "mimetype": "text/x-python",
   "name": "python",
   "nbconvert_exporter": "python",
   "pygments_lexer": "ipython3",
   "version": "3.9.1"
  }
 },
 "nbformat": 4,
 "nbformat_minor": 5
}
