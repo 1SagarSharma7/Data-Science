{
 "cells": [
  {
   "cell_type": "code",
   "execution_count": 3,
   "id": "ordered-walnut",
   "metadata": {},
   "outputs": [
    {
     "name": "stdout",
     "output_type": "stream",
     "text": [
      "0\n",
      "Zero\n"
     ]
    }
   ],
   "source": [
    "\"\"\"\n",
    "\n",
    "Check number\n",
    "\n",
    "Given an integer n, find if n is positive, negative or 0.\n",
    "If n is positive, print \"Positive\"\n",
    "If n is negative, print \"Negative\"\n",
    "And if n is equal to 0, print \"Zero\".\n",
    "\n",
    "Input Format :\n",
    "Integer n\n",
    "\n",
    "Output Format :\n",
    "\"Positive\" or \"Negative\" or \"Zero\" (without double quotes)\n",
    "\n",
    "Constraints :\n",
    "1 <= n <= 100\n",
    "\n",
    "Sample Input 1 :\n",
    "10\n",
    "\n",
    "Sample Output 1 :\n",
    "Positive\n",
    "\n",
    "Sample Input 2 :\n",
    "-10\n",
    "\n",
    "Sample Output 2 :\n",
    "Negative\n",
    "\n",
    "\"\"\"\n",
    "\n",
    "# Take a number\n",
    "\n",
    "a = int(input())\n",
    "\n",
    "# if elif else for checking greater than or lest than 0\n",
    "\n",
    "if a > 0:\n",
    "    print(\"Positive\")\n",
    "elif a < 0:\n",
    "    print(\"Negative\")\n",
    "else :\n",
    "    print(\"Zero\")\n"
   ]
  }
 ],
 "metadata": {
  "kernelspec": {
   "display_name": "Python 3",
   "language": "python",
   "name": "python3"
  },
  "language_info": {
   "codemirror_mode": {
    "name": "ipython",
    "version": 3
   },
   "file_extension": ".py",
   "mimetype": "text/x-python",
   "name": "python",
   "nbconvert_exporter": "python",
   "pygments_lexer": "ipython3",
   "version": "3.9.1"
  }
 },
 "nbformat": 4,
 "nbformat_minor": 5
}
