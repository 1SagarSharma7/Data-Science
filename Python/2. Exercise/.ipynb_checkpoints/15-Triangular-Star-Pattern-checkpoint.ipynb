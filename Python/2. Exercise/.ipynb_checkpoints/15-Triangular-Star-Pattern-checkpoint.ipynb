{
 "cells": [
  {
   "cell_type": "code",
   "execution_count": 4,
   "id": "modern-midwest",
   "metadata": {},
   "outputs": [
    {
     "name": "stdout",
     "output_type": "stream",
     "text": [
      "6\n",
      "*\n",
      "**\n",
      "***\n",
      "****\n",
      "*****\n",
      "******\n"
     ]
    }
   ],
   "source": [
    "\"\"\"\n",
    "\n",
    "15-Triangular-Star-Pattern\n",
    "\n",
    "Print the following pattern for the given N number of rows.\n",
    "Pattern for N = 4\n",
    "*\n",
    "**\n",
    "***\n",
    "****\n",
    "Note : There are no spaces between the stars (*).\n",
    "\n",
    "Input format :\n",
    "Integer N (Total no. of rows)\n",
    "\n",
    "Output format :\n",
    "Pattern in N lines\n",
    "\n",
    "Constraints\n",
    "0 <= N <= 50\n",
    "\n",
    "Sample Input 1:\n",
    "5\n",
    "\n",
    "Sample Output 1:\n",
    "*\n",
    "**\n",
    "***\n",
    "****\n",
    "*****\n",
    "\n",
    "Sample Input 2:\n",
    "6\n",
    "\n",
    "Sample Output 2:\n",
    "*\n",
    "**\n",
    "***\n",
    "****\n",
    "*****\n",
    "******\n",
    "\n",
    "\"\"\"\n",
    "\n",
    "# How many rows?\n",
    "\n",
    "n = int(input())\n",
    "\n",
    "# How many columns for ith row?\n",
    "\n",
    "i = 1\n",
    "while i <= n :\n",
    "    j = 1\n",
    "    while j <= i :\n",
    "# What to print?\n",
    "        print(\"*\", end = \"\")\n",
    "        j += 1\n",
    "    print()\n",
    "    i += 1\n",
    "\n"
   ]
  }
 ],
 "metadata": {
  "kernelspec": {
   "display_name": "Python 3",
   "language": "python",
   "name": "python3"
  },
  "language_info": {
   "codemirror_mode": {
    "name": "ipython",
    "version": 3
   },
   "file_extension": ".py",
   "mimetype": "text/x-python",
   "name": "python",
   "nbconvert_exporter": "python",
   "pygments_lexer": "ipython3",
   "version": "3.9.1"
  }
 },
 "nbformat": 4,
 "nbformat_minor": 5
}
