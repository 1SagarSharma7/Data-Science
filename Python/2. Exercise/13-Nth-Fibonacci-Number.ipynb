{
 "cells": [
  {
   "cell_type": "code",
   "execution_count": 12,
   "id": "alpha-classics",
   "metadata": {},
   "outputs": [
    {
     "name": "stdout",
     "output_type": "stream",
     "text": [
      "6\n",
      "8\n"
     ]
    }
   ],
   "source": [
    "\"\"\"\n",
    "\n",
    "13-Nth-Fibonacci-Number\n",
    "\n",
    "Nth term of fibonacci series F(n) is calculated using following formula -\n",
    "    F(n) = F(n-1) + F(n-2), \n",
    "    Where, F(1) = F(2) = 1\n",
    "Provided N you have to find out the Nth Fibonacci Number.\n",
    "\n",
    "Input Format :\n",
    "Integer n\n",
    "\n",
    "Output Format :\n",
    "Nth Fibonacci term i.e. F(n)\n",
    "\n",
    "Constraints:\n",
    "1 <= n <= 25\n",
    "\n",
    "Sample Input 1:\n",
    "4\n",
    "\n",
    "Sample Output 2:\n",
    "3 \n",
    "\n",
    "Sample Input 1:\n",
    "6\n",
    "\n",
    "Sample Output 2:\n",
    "8\n",
    "\n",
    "\"\"\"\n",
    "\n",
    "# I have to find  n - 1 and n th fibonacci number and just add it for the n t fibonacci number\n",
    "\n",
    "n = int(input())\n",
    "\n",
    "# loop it till n and perform the fibonacci\n",
    "\n",
    "i = 3    #cause we already have 1st and 2nd\n",
    "a = 1\n",
    "b = 1\n",
    "\n",
    "if(n == 1 or n == 2) :\n",
    "    i = n + 1       #i could have used return, but we havent been thought yet \n",
    "while i <= n :      # so i just making a condition where they dont enter while\n",
    "    c = a + b\n",
    "    a = b\n",
    "    b = c\n",
    "    i = i + 1\n",
    "    \n",
    "# Print\n",
    "\n",
    "print(b)\n",
    "\n"
   ]
  }
 ],
 "metadata": {
  "kernelspec": {
   "display_name": "Python 3",
   "language": "python",
   "name": "python3"
  },
  "language_info": {
   "codemirror_mode": {
    "name": "ipython",
    "version": 3
   },
   "file_extension": ".py",
   "mimetype": "text/x-python",
   "name": "python",
   "nbconvert_exporter": "python",
   "pygments_lexer": "ipython3",
   "version": "3.9.1"
  }
 },
 "nbformat": 4,
 "nbformat_minor": 5
}
