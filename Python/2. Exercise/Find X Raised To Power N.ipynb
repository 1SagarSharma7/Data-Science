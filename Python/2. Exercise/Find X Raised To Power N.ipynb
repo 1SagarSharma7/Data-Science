{
 "cells": [
  {
   "cell_type": "code",
   "execution_count": 2,
   "id": "animated-accountability",
   "metadata": {},
   "outputs": [
    {
     "name": "stdout",
     "output_type": "stream",
     "text": [
      "10\n",
      "4\n",
      "10000\n"
     ]
    }
   ],
   "source": [
    "\"\"\"\n",
    "\n",
    "Find X raised to power N\n",
    "\n",
    "You are given two integers: X and N. You have to\n",
    "calculate X raised to power N and print it.\n",
    "\n",
    "Input format:\n",
    "The first line of input contains an integer X (1 <= X\n",
    "<= 100)\n",
    "The second line of input contains an integer N (1\n",
    "<= N <= 10)\n",
    "\n",
    "Constraints:\n",
    "Time Limit: 1 second\n",
    "\n",
    "Output format:\n",
    "The first and only line of output contains the\n",
    "result.\n",
    "\n",
    "Sample Input:\n",
    "10\n",
    "4\n",
    "\n",
    "Sample Output:\n",
    "10000 \n",
    "\n",
    "\"\"\"\n",
    "\n",
    "# Take 2 numbers\n",
    "\n",
    "a = int(input())\n",
    "b = int(input())\n",
    "\n",
    "# Find the power\n",
    "\n",
    "c = a ** b\n",
    "\n",
    "#Print it\n",
    "\n",
    "print(c)\n"
   ]
  }
 ],
 "metadata": {
  "kernelspec": {
   "display_name": "Python 3",
   "language": "python",
   "name": "python3"
  },
  "language_info": {
   "codemirror_mode": {
    "name": "ipython",
    "version": 3
   },
   "file_extension": ".py",
   "mimetype": "text/x-python",
   "name": "python",
   "nbconvert_exporter": "python",
   "pygments_lexer": "ipython3",
   "version": "3.9.1"
  }
 },
 "nbformat": 4,
 "nbformat_minor": 5
}
