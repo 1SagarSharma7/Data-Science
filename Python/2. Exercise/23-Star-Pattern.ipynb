{
 "cells": [
  {
   "cell_type": "code",
   "execution_count": 3,
   "id": "qualified-trouble",
   "metadata": {},
   "outputs": [
    {
     "name": "stdout",
     "output_type": "stream",
     "text": [
      "4\n",
      "   *\n",
      "  ***\n",
      " *****\n",
      "*******\n"
     ]
    }
   ],
   "source": [
    "\"\"\"\n",
    "\n",
    "23-Star-Pattern\n",
    "\n",
    "Print the following pattern\n",
    "Pattern for N = 4\n",
    "     *\n",
    "    ***\n",
    "   *****\n",
    "  *******\n",
    "The dots represent spaces.\n",
    "\n",
    "Input Format :\n",
    "N (Total no. of rows)\n",
    "\n",
    "Output Format :\n",
    "Pattern in N lines\n",
    "\n",
    "Constraints :\n",
    "0 <= N <= 50\n",
    "\n",
    "Sample Input 1 :\n",
    "3\n",
    "\n",
    "Sample Output 1 :\n",
    "   *\n",
    "  *** \n",
    " *****\n",
    "\n",
    "Sample Input 2 :\n",
    "4\n",
    "\n",
    "Sample Output 2 :\n",
    "    *\n",
    "   *** \n",
    "  *****\n",
    " *******\n",
    "\n",
    "\"\"\"\n",
    "\n",
    "# How many rows?\n",
    "\n",
    "n = int(input())\n",
    "i = 1\n",
    "a = 1\n",
    "\n",
    "while i <= n :\n",
    "# How many columns in ith row?\n",
    "# Two loops 1 for spaces and the other for the incremental numbers\n",
    "\n",
    "    k = n - i\n",
    "    while k >= 1 :\n",
    "# What to print?\n",
    "\n",
    "        print(\" \",end = \"\")\n",
    "        k -= 1\n",
    "    j = 1\n",
    "    while j <= a :\n",
    "# What to print?\n",
    "\n",
    "        print(\"*\", end = \"\")\n",
    "        j += 1\n",
    "    print()\n",
    "    i += 1\n",
    "    a += 2\n"
   ]
  }
 ],
 "metadata": {
  "kernelspec": {
   "display_name": "Python 3",
   "language": "python",
   "name": "python3"
  },
  "language_info": {
   "codemirror_mode": {
    "name": "ipython",
    "version": 3
   },
   "file_extension": ".py",
   "mimetype": "text/x-python",
   "name": "python",
   "nbconvert_exporter": "python",
   "pygments_lexer": "ipython3",
   "version": "3.9.1"
  }
 },
 "nbformat": 4,
 "nbformat_minor": 5
}
