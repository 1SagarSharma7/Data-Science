{
 "cells": [
  {
   "cell_type": "code",
   "execution_count": 3,
   "id": "imposed-conservative",
   "metadata": {},
   "outputs": [
    {
     "name": "stdout",
     "output_type": "stream",
     "text": [
      "6\n",
      "1\n",
      "21\n",
      "321\n",
      "4321\n",
      "54321\n",
      "654321\n"
     ]
    }
   ],
   "source": [
    "\"\"\"\n",
    "\n",
    "17-Reverse-Number-Pattern\n",
    "\n",
    "Print the following pattern for the given N number of rows.\n",
    "Pattern for N = 4\n",
    "1\n",
    "21\n",
    "321\n",
    "4321\n",
    "\n",
    "Input format :\n",
    "Integer N (Total no. of rows)\n",
    "\n",
    "Output format :\n",
    "Pattern in N lines\n",
    "\n",
    "Constraints\n",
    "0 <= N <= 50\n",
    "\n",
    "Sample Input 1:\n",
    "5\n",
    "\n",
    "Sample Output 1:\n",
    "1\n",
    "21\n",
    "321\n",
    "4321\n",
    "54321\n",
    "\n",
    "Sample Input 2:\n",
    "6\n",
    "\n",
    "Sample Output 2:\n",
    "1\n",
    "21\n",
    "321\n",
    "4321\n",
    "54321\n",
    "654321\n",
    "\n",
    "\"\"\"\n",
    "\n",
    "# How many rows?\n",
    "\n",
    "n = int(input())\n",
    "i = 1\n",
    "while i <= n :\n",
    "# How many columns for ith row?\n",
    "    j = i\n",
    "    while j >= 1 :\n",
    "# What to print?\n",
    "        print(j, end = \"\")\n",
    "        j -= 1\n",
    "    print()\n",
    "    i += 1\n"
   ]
  }
 ],
 "metadata": {
  "kernelspec": {
   "display_name": "Python 3",
   "language": "python",
   "name": "python3"
  },
  "language_info": {
   "codemirror_mode": {
    "name": "ipython",
    "version": 3
   },
   "file_extension": ".py",
   "mimetype": "text/x-python",
   "name": "python",
   "nbconvert_exporter": "python",
   "pygments_lexer": "ipython3",
   "version": "3.9.1"
  }
 },
 "nbformat": 4,
 "nbformat_minor": 5
}
